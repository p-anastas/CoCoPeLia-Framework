{
 "cells": [
  {
   "cell_type": "code",
   "execution_count": 1,
   "metadata": {},
   "outputs": [
    {
     "name": "stderr",
     "output_type": "stream",
     "text": [
      "In /home/petyros/.local/lib/python3.6/site-packages/matplotlib/mpl-data/stylelib/_classic_test.mplstyle: \n",
      "The text.latex.preview rcparam was deprecated in Matplotlib 3.3 and will be removed two minor releases later.\n",
      "In /home/petyros/.local/lib/python3.6/site-packages/matplotlib/mpl-data/stylelib/_classic_test.mplstyle: \n",
      "The mathtext.fallback_to_cm rcparam was deprecated in Matplotlib 3.3 and will be removed two minor releases later.\n",
      "In /home/petyros/.local/lib/python3.6/site-packages/matplotlib/mpl-data/stylelib/_classic_test.mplstyle: Support for setting the 'mathtext.fallback_to_cm' rcParam is deprecated since 3.3 and will be removed two minor releases later; use 'mathtext.fallback : 'cm' instead.\n",
      "In /home/petyros/.local/lib/python3.6/site-packages/matplotlib/mpl-data/stylelib/_classic_test.mplstyle: \n",
      "The validate_bool_maybe_none function was deprecated in Matplotlib 3.3 and will be removed two minor releases later.\n",
      "In /home/petyros/.local/lib/python3.6/site-packages/matplotlib/mpl-data/stylelib/_classic_test.mplstyle: \n",
      "The savefig.jpeg_quality rcparam was deprecated in Matplotlib 3.3 and will be removed two minor releases later.\n",
      "In /home/petyros/.local/lib/python3.6/site-packages/matplotlib/mpl-data/stylelib/_classic_test.mplstyle: \n",
      "The keymap.all_axes rcparam was deprecated in Matplotlib 3.3 and will be removed two minor releases later.\n",
      "In /home/petyros/.local/lib/python3.6/site-packages/matplotlib/mpl-data/stylelib/_classic_test.mplstyle: \n",
      "The animation.avconv_path rcparam was deprecated in Matplotlib 3.3 and will be removed two minor releases later.\n",
      "In /home/petyros/.local/lib/python3.6/site-packages/matplotlib/mpl-data/stylelib/_classic_test.mplstyle: \n",
      "The animation.avconv_args rcparam was deprecated in Matplotlib 3.3 and will be removed two minor releases later.\n"
     ]
    }
   ],
   "source": [
    "import pandas as pd\n",
    "import matplotlib as mpl\n",
    "mpl.use('pdf')\n",
    "import matplotlib.pyplot as plt\n",
    "import numpy as np\n",
    "from collections import OrderedDict\n",
    "import matplotlib\n",
    "import seaborn as sns\n",
    "#Red\n",
    "red1= sns.color_palette(\"Reds_d\",1)\n",
    "red2= sns.color_palette(\"Reds_d\",2)\n",
    "red3= sns.color_palette(\"Reds_d\",3)\n",
    "red4= sns.color_palette(\"Reds_d\",4)\n",
    "red5= sns.color_palette(\"Reds_d\",5)\n",
    "red6= sns.color_palette(\"Reds_d\",6)\n",
    "red7= sns.color_palette(\"Reds_d\",7)\n",
    "red8= sns.color_palette(\"Reds_d\",8)\n",
    "\n",
    "#YellowGreen\n",
    "yg1= sns.color_palette(\"YlGn_d\",1)\n",
    "yg2= sns.color_palette(\"YlGn_d\",2)\n",
    "yg3= sns.color_palette(\"YlGn_d\",3)\n",
    "yg4= sns.color_palette(\"YlGn_d\",4)\n",
    "yg5= sns.color_palette(\"YlGn_d\",5)\n",
    "yg7= sns.color_palette(\"YlGn_d\",7)\n",
    "\n",
    "#GreenBlue\n",
    "gb1= sns.color_palette(\"GnBu_d\",1)\n",
    "gb2= sns.color_palette(\"GnBu_d\",2)\n",
    "gb3= sns.color_palette(\"GnBu_d\",3)\n",
    "gb4= sns.color_palette(\"GnBu_d\",4)\n",
    "gb5= sns.color_palette(\"GnBu_d\",5)\n",
    "gb6= sns.color_palette(\"GnBu_d\",6)\n",
    "gb7= sns.color_palette(\"GnBu_d\",7)\n",
    "gb8= sns.color_palette(\"GnBu_d\",8)\n",
    "\n",
    "cp2 = list(map(lambda x: sns.desaturate(x,0.9),[red7[2],gb7[4]]))\n",
    "cp2v1 = list(map(lambda x: sns.desaturate(x,0.9),[red7[2],yg7[0]]))\n",
    "cp3 = list(map(lambda x: sns.desaturate(x,0.9),[yg7[0],gb7[4],red7[2]]))\n",
    "cp4 = list(map(lambda x: sns.desaturate(x,0.9),[yg7[0],gb7[4],red7[2],yg7[6]]))\n",
    "cp2_2 = list(map(lambda x: sns.desaturate(x,0.9),[red7[0],red7[3],gb7[4],gb7[6]]))\n",
    "cp_total_spectrum = list(map(lambda x: sns.desaturate(x,0.9),gb7 + yg7 + red7))"
   ]
  },
  {
   "cell_type": "code",
   "execution_count": 2,
   "metadata": {},
   "outputs": [
    {
     "data": {
      "text/html": [
       "<svg  width=\"220\" height=\"55\"><rect x=\"0\" y=\"0\" width=\"55\" height=\"55\" style=\"fill:#9cce89;stroke-width:2;stroke:rgb(255,255,255)\"/><rect x=\"55\" y=\"0\" width=\"55\" height=\"55\" style=\"fill:#4486a0;stroke-width:2;stroke:rgb(255,255,255)\"/><rect x=\"110\" y=\"0\" width=\"55\" height=\"55\" style=\"fill:#e15246;stroke-width:2;stroke:rgb(255,255,255)\"/><rect x=\"165\" y=\"0\" width=\"55\" height=\"55\" style=\"fill:#354c3c;stroke-width:2;stroke:rgb(255,255,255)\"/></svg>"
      ],
      "text/plain": [
       "[(0.6120315263360248, 0.8081330257593234, 0.5357962322183777),\n",
       " (0.2649160579264386, 0.5270152505446624, 0.6269460463924131),\n",
       " (0.8807358708189157, 0.32277047289504046, 0.2744659746251443),\n",
       " (0.20872433679354097, 0.2971118800461361, 0.23389619377162635)]"
      ]
     },
     "execution_count": 2,
     "metadata": {},
     "output_type": "execute_result"
    }
   ],
   "source": [
    "sns.set_palette(cp4)\n",
    "sns.color_palette()"
   ]
  },
  {
   "cell_type": "code",
   "execution_count": 3,
   "metadata": {},
   "outputs": [
    {
     "data": {
      "text/html": [
       "<svg  width=\"110\" height=\"55\"><rect x=\"0\" y=\"0\" width=\"55\" height=\"55\" style=\"fill:#e15246;stroke-width:2;stroke:rgb(255,255,255)\"/><rect x=\"55\" y=\"0\" width=\"55\" height=\"55\" style=\"fill:#9cce89;stroke-width:2;stroke:rgb(255,255,255)\"/></svg>"
      ],
      "text/plain": [
       "[(0.8807358708189157, 0.32277047289504046, 0.2744659746251443),\n",
       " (0.6120315263360248, 0.8081330257593234, 0.5357962322183777)]"
      ]
     },
     "execution_count": 3,
     "metadata": {},
     "output_type": "execute_result"
    }
   ],
   "source": [
    "sns.set_palette(cp2v1)\n",
    "sns.color_palette()"
   ]
  },
  {
   "cell_type": "code",
   "execution_count": 4,
   "metadata": {},
   "outputs": [
    {
     "data": {
      "text/html": [
       "<svg  width=\"165\" height=\"55\"><rect x=\"0\" y=\"0\" width=\"55\" height=\"55\" style=\"fill:#9cce89;stroke-width:2;stroke:rgb(255,255,255)\"/><rect x=\"55\" y=\"0\" width=\"55\" height=\"55\" style=\"fill:#4486a0;stroke-width:2;stroke:rgb(255,255,255)\"/><rect x=\"110\" y=\"0\" width=\"55\" height=\"55\" style=\"fill:#e15246;stroke-width:2;stroke:rgb(255,255,255)\"/></svg>"
      ],
      "text/plain": [
       "[(0.6120315263360248, 0.8081330257593234, 0.5357962322183777),\n",
       " (0.2649160579264386, 0.5270152505446624, 0.6269460463924131),\n",
       " (0.8807358708189157, 0.32277047289504046, 0.2744659746251443)]"
      ]
     },
     "execution_count": 4,
     "metadata": {},
     "output_type": "execute_result"
    }
   ],
   "source": [
    "sns.set_palette(cp3)\n",
    "sns.color_palette()"
   ]
  },
  {
   "cell_type": "code",
   "execution_count": 5,
   "metadata": {},
   "outputs": [
    {
     "data": {
      "text/html": [
       "<div>\n",
       "<style scoped>\n",
       "    .dataframe tbody tr th:only-of-type {\n",
       "        vertical-align: middle;\n",
       "    }\n",
       "\n",
       "    .dataframe tbody tr th {\n",
       "        vertical-align: top;\n",
       "    }\n",
       "\n",
       "    .dataframe thead th {\n",
       "        text-align: right;\n",
       "    }\n",
       "</style>\n",
       "<table border=\"1\" class=\"dataframe\">\n",
       "  <thead>\n",
       "    <tr style=\"text-align: right;\">\n",
       "      <th></th>\n",
       "      <th>Nodes</th>\n",
       "      <th>10M</th>\n",
       "      <th>100M</th>\n",
       "      <th>500M</th>\n",
       "      <th>1B</th>\n",
       "      <th>new_agents</th>\n",
       "      <th>sim_days</th>\n",
       "      <th>parallemode</th>\n",
       "      <th>Input_graph</th>\n",
       "    </tr>\n",
       "  </thead>\n",
       "  <tbody>\n",
       "    <tr>\n",
       "      <th>2</th>\n",
       "      <td>4</td>\n",
       "      <td>41.1415</td>\n",
       "      <td>365.5144</td>\n",
       "      <td>1819.7013</td>\n",
       "      <td>3633.0544</td>\n",
       "      <td>NaN</td>\n",
       "      <td>NaN</td>\n",
       "      <td>NaN</td>\n",
       "      <td>NaN</td>\n",
       "    </tr>\n",
       "    <tr>\n",
       "      <th>3</th>\n",
       "      <td>8</td>\n",
       "      <td>23.0808</td>\n",
       "      <td>189.7957</td>\n",
       "      <td>933.5256</td>\n",
       "      <td>1857.7955</td>\n",
       "      <td>NaN</td>\n",
       "      <td>NaN</td>\n",
       "      <td>NaN</td>\n",
       "      <td>NaN</td>\n",
       "    </tr>\n",
       "    <tr>\n",
       "      <th>4</th>\n",
       "      <td>16</td>\n",
       "      <td>14.0743</td>\n",
       "      <td>97.2530</td>\n",
       "      <td>467.1713</td>\n",
       "      <td>934.5462</td>\n",
       "      <td>NaN</td>\n",
       "      <td>NaN</td>\n",
       "      <td>NaN</td>\n",
       "      <td>NaN</td>\n",
       "    </tr>\n",
       "    <tr>\n",
       "      <th>5</th>\n",
       "      <td>32</td>\n",
       "      <td>9.3391</td>\n",
       "      <td>51.0484</td>\n",
       "      <td>237.6095</td>\n",
       "      <td>468.7818</td>\n",
       "      <td>NaN</td>\n",
       "      <td>NaN</td>\n",
       "      <td>NaN</td>\n",
       "      <td>NaN</td>\n",
       "    </tr>\n",
       "    <tr>\n",
       "      <th>6</th>\n",
       "      <td>64</td>\n",
       "      <td>7.0381</td>\n",
       "      <td>28.8662</td>\n",
       "      <td>122.7023</td>\n",
       "      <td>238.9242</td>\n",
       "      <td>NaN</td>\n",
       "      <td>NaN</td>\n",
       "      <td>NaN</td>\n",
       "      <td>NaN</td>\n",
       "    </tr>\n",
       "    <tr>\n",
       "      <th>7</th>\n",
       "      <td>128</td>\n",
       "      <td>5.7932</td>\n",
       "      <td>18.9378</td>\n",
       "      <td>70.4948</td>\n",
       "      <td>134.6585</td>\n",
       "      <td>NaN</td>\n",
       "      <td>NaN</td>\n",
       "      <td>NaN</td>\n",
       "      <td>NaN</td>\n",
       "    </tr>\n",
       "  </tbody>\n",
       "</table>\n",
       "</div>"
      ],
      "text/plain": [
       "   Nodes      10M      100M       500M         1B  new_agents  sim_days  \\\n",
       "2      4  41.1415  365.5144  1819.7013  3633.0544         NaN       NaN   \n",
       "3      8  23.0808  189.7957   933.5256  1857.7955         NaN       NaN   \n",
       "4     16  14.0743   97.2530   467.1713   934.5462         NaN       NaN   \n",
       "5     32   9.3391   51.0484   237.6095   468.7818         NaN       NaN   \n",
       "6     64   7.0381   28.8662   122.7023   238.9242         NaN       NaN   \n",
       "7    128   5.7932   18.9378    70.4948   134.6585         NaN       NaN   \n",
       "\n",
       "  parallemode Input_graph  \n",
       "2         NaN         NaN  \n",
       "3         NaN         NaN  \n",
       "4         NaN         NaN  \n",
       "5         NaN         NaN  \n",
       "6         NaN         NaN  \n",
       "7         NaN         NaN  "
      ]
     },
     "execution_count": 5,
     "metadata": {},
     "output_type": "execute_result"
    }
   ],
   "source": [
    "ssudata = pd.read_csv('per_agent_scala_data_50-50-4_graph.csv')\n",
    "plotdata = ssudata[ssudata['Nodes'] >=4]\n",
    "plotdata"
   ]
  },
  {
   "cell_type": "code",
   "execution_count": 6,
   "metadata": {},
   "outputs": [],
   "source": [
    "font=8\n",
    "plt.rc('font', family='serif', serif='Times')\n",
    "plt.rc('text', usetex=True)\n",
    "plt.rc('xtick', labelsize=font)\n",
    "plt.rc('ytick', labelsize=font)\n",
    "plt.rc('axes', labelsize=font)\n",
    "\n",
    "# width as measured in inkscape\n",
    "width = 3.487\n",
    "height = width / 1.618\n",
    "\n",
    "#fig, ax = plt.subplots()\n",
    "#fig.subplots_adjust(left=.15, bottom=.17, right=.99, top=.97)"
   ]
  },
  {
   "cell_type": "code",
   "execution_count": 14,
   "metadata": {},
   "outputs": [],
   "source": [
    "fig, ax = plt.subplots()\n",
    "fig.subplots_adjust(left=.12, bottom=.16, right=.99, top=.86)\n",
    "x_ticks = np.arange(len(plotdata['Nodes']))\n",
    "plt.plot(x_ticks, plotdata['10M'], linewidth= 1, color=cp4[1], label='10M')\n",
    "plt.plot(x_ticks, 147/plotdata['Nodes'], '--', linewidth= 0.5, color=cp4[1])\n",
    "plt.plot(x_ticks, plotdata['100M'], linewidth= 1, color=cp4[2], label='100M')\n",
    "plt.plot(x_ticks, 1467/plotdata['Nodes'], '--', linewidth= 0.5, color=cp4[2])\n",
    "plt.plot(x_ticks, plotdata['1B'], linewidth= 1, color=cp4[3], label='1B')\n",
    "plt.plot(x_ticks, 14661/plotdata['Nodes'], '--', linewidth= 0.5, color=cp4[3])\n",
    "plt.plot(0, 0, '--', linewidth= 0.5, color='k', label='linear')\n",
    "plt.xticks(x_ticks, plotdata['Nodes'])\n",
    "plt.ylabel('Time (s)')\n",
    "plt.xlabel('Nodes')\n",
    "plt.yscale('log')\n",
    "fig.set_size_inches(width, height)\n",
    "fig.legend(loc = 'upper center',#title=\"Model\",  # Title for the legend\n",
    "\tfontsize=font, fancybox = False, ncol=4)\n",
    "fig.savefig('Scala_time_log_agents.pdf')\n",
    "plt.close()"
   ]
  },
  {
   "cell_type": "code",
   "execution_count": 8,
   "metadata": {},
   "outputs": [],
   "source": [
    "fig, ax = plt.subplots()\n",
    "fig.subplots_adjust(left=.15, bottom=.17*4/3, right=.99, top=.99)\n",
    "x_ticks = np.arange(len(ssudata['Nodes'][ssudata['Nodes'] >=4]))\n",
    "plt.plot(x_ticks, ssudata['10M'][0]/ssudata['10M'][ssudata['Nodes'] >=4], linewidth= 1, color=cp4[2], label='10M agents')\n",
    "plt.plot(x_ticks, ssudata['100M'][0]/ssudata['100M'][ssudata['Nodes'] >=4], linewidth= 1, color=cp4[1], label='100M  agents')\n",
    "plt.plot(x_ticks, ssudata['1B'][0]/ssudata['1B'][ssudata['Nodes'] >=4], linewidth= 1, color=cp4[3], label='1B agents')\n",
    "plt.plot(x_ticks, ssudata['Nodes'][ssudata['Nodes'] >=4], '--', linewidth= 1, color=cp4[0], label='linear')\n",
    "plt.xticks(x_ticks, ssudata['Nodes'][ssudata['Nodes'] >=4])\n",
    "plt.ylabel('Speedup')\n",
    "plt.xlabel('Nodes')\n",
    "plt.yscale('log')\n",
    "fig.set_size_inches(width, height*3/4)\n",
    "fig.legend(bbox_to_anchor=(0.15,1),loc = 'upper left',#title=\"Model\",  # Title for the legend\n",
    "\tfontsize=font, fancybox = False, ncol=1)\n",
    "fig.savefig('Scala_speedup_log_agents.pdf')\n",
    "plt.close()"
   ]
  },
  {
   "cell_type": "code",
   "execution_count": 9,
   "metadata": {},
   "outputs": [],
   "source": [
    "scaladata_graph = pd.read_csv('per_graph_scala_data-100M_agents.csv')\n",
    "plot_scaladata_graph = scaladata_graph[scaladata_graph['Nodes'] >=4]\n",
    "plot_scaladata_graph"
   ]
  },
  {
   "cell_type": "code",
   "execution_count": 13,
   "metadata": {},
   "outputs": [],
   "source": [
    "fig, ax = plt.subplots()\n",
    "fig.subplots_adjust(left=.12, bottom=.16, right=.99, top=.86)\n",
    "x_ticks = np.arange(len(plot_scaladata_graph['Nodes']))\n",
    "plt.plot(x_ticks, plot_scaladata_graph['10-10-4'], linewidth= 1, color=cp4[1], label='10-10-4')\n",
    "plt.plot(x_ticks, 500/plot_scaladata_graph['Nodes'], '--', linewidth= 0.5, color=cp4[1])\n",
    "plt.plot(x_ticks, plot_scaladata_graph['50-50-4'], linewidth= 1, color=cp4[2], label='50-50-4')\n",
    "plt.plot(x_ticks, 1500/plot_scaladata_graph['Nodes'], '--', linewidth= 0.5, color=cp4[2])\n",
    "plt.plot(x_ticks, plot_scaladata_graph['100-100-8'], linewidth= 1, color=cp4[3], label='100-100-8')\n",
    "plt.plot(x_ticks, 2000/plot_scaladata_graph['Nodes'], '--', linewidth= 0.5, color=cp4[3])\n",
    "plt.plot(0, 0, '--', linewidth= 0.5, color='k', label='linear')\n",
    "plt.xticks(x_ticks, plot_scaladata_graph['Nodes'])\n",
    "plt.ylabel('Time (s)')\n",
    "plt.xlabel('Nodes')\n",
    "plt.yscale('log')\n",
    "fig.set_size_inches(width, height)\n",
    "fig.legend(loc = 'upper center',#title=\"Model\",  # Title for the legend\n",
    "\tfontsize=font, fancybox = False, ncol=4)\n",
    "fig.savefig('Scala_time_log_graph.pdf')\n",
    "plt.close()"
   ]
  },
  {
   "cell_type": "code",
   "execution_count": 11,
   "metadata": {},
   "outputs": [],
   "source": [
    "fig, ax = plt.subplots()\n",
    "fig.subplots_adjust(left=.15, bottom=.17*4/3, right=.99, top=.99)\n",
    "x_ticks = np.arange(len(scaladata_graph['Nodes']))\n",
    "plt.plot(x_ticks, scaladata_graph['50-50-4'][0]/scaladata_graph['50-50-4'], linewidth= 1, color=cp4[1], label='50-50-4 graph')\n",
    "plt.plot(x_ticks, scaladata_graph['50-50-8'][0]/scaladata_graph['50-50-8'], linewidth= 1, color=cp4[2], label='50-50-8 graph')\n",
    "plt.plot(x_ticks, scaladata_graph['100-100-8'][0]/scaladata_graph['100-100-8'], linewidth= 1, color=cp4[3], label='100-100-8 graph')\n",
    "plt.plot(x_ticks, scaladata_graph['Nodes'], '--', linewidth= 1, color=cp4[0], label='linear')\n",
    "plt.xticks(x_ticks, scaladata_graph['Nodes'])\n",
    "plt.ylabel('Time (s)')\n",
    "plt.xlabel('Nodes')\n",
    "plt.yscale('log')\n",
    "fig.set_size_inches(width, height*3/4)\n",
    "fig.legend(bbox_to_anchor=(0.15,1), loc = 'upper left',#title=\"Model\",  # Title for the legend\n",
    "\tfontsize=font, fancybox = False, ncol=1)\n",
    "fig.savefig('Scala_speedup_log_graph.pdf')\n",
    "plt.close()"
   ]
  },
  {
   "cell_type": "code",
   "execution_count": null,
   "metadata": {},
   "outputs": [],
   "source": []
  }
 ],
 "metadata": {
  "kernelspec": {
   "display_name": "Python 3",
   "language": "python",
   "name": "python3"
  },
  "language_info": {
   "codemirror_mode": {
    "name": "ipython",
    "version": 3
   },
   "file_extension": ".py",
   "mimetype": "text/x-python",
   "name": "python",
   "nbconvert_exporter": "python",
   "pygments_lexer": "ipython3",
   "version": "3.6.9"
  }
 },
 "nbformat": 4,
 "nbformat_minor": 4
}
